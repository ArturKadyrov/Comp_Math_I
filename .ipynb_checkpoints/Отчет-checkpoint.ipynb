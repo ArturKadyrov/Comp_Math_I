{
 "cells": [
  {
   "cell_type": "code",
   "execution_count": 7,
   "id": "620afd1f",
   "metadata": {
    "ExecuteTime": {
     "end_time": "2022-10-02T00:34:44.350817Z",
     "start_time": "2022-10-02T00:34:44.344255Z"
    }
   },
   "outputs": [],
   "source": [
    "# Условия :\n",
    "gamma_0 = 5/3\n",
    "p_0 = 1.694 * (10**(-4))\n",
    "P_0 = 1.013 * (10**(6))\n",
    "U_0 = -10**(-1)\n",
    "\n",
    "gamma_3 = 5/3 \n",
    "C_3 = 3.6537 * (10**(4))\n",
    "P_3 = 1.6768 * (10**(6))\n",
    "U_3 = 0"
   ]
  },
  {
   "cell_type": "code",
   "execution_count": 9,
   "id": "816c9d35",
   "metadata": {
    "ExecuteTime": {
     "end_time": "2022-10-02T00:34:54.419633Z",
     "start_time": "2022-10-02T00:34:54.412989Z"
    }
   },
   "outputs": [],
   "source": [
    "# Новые обозначения :\n",
    "a_0 = (gamma_0 + 1)/(gamma_0 - 1)\n",
    "n = 2 * gamma_3 / (gamma_3 -1)\n",
    "X = P_3 / P_0\n",
    "u = (U_3 - U_0)*  (  ((gamma_0-1)*p_0/2/P_0)**(0.5)  )\n",
    "p_3 = gamma_3 * P_3 / (C_3**2 )\n",
    "v = 2 / (gamma_3 - 1)*    (  (gamma_3*(gamma_0-1)/2 * p_0/p_3 * P_3/P_0)**(0.5)  )"
   ]
  },
  {
   "cell_type": "markdown",
   "id": "4f3cfd06",
   "metadata": {
    "ExecuteTime": {
     "end_time": "2022-10-02T00:35:30.233949Z",
     "start_time": "2022-10-02T00:35:30.224169Z"
    }
   },
   "source": [
    "# Функция f(z)"
   ]
  },
  {
   "cell_type": "code",
   "execution_count": 23,
   "id": "072d5b9d",
   "metadata": {
    "ExecuteTime": {
     "end_time": "2022-10-02T01:05:59.228165Z",
     "start_time": "2022-10-02T01:05:59.216633Z"
    }
   },
   "outputs": [
    {
     "name": "stdout",
     "output_type": "stream",
     "text": [
      "f(z) =  2.739956322983837  z^10 -  4.434276774507052  z^7 +  8.868561639947997  z^6 -  7.744847550538416  z^5 -  0.6697164796898323  z^2 +  1.3394341813673842  z -  1.6697177016781093\n"
     ]
    }
   ],
   "source": [
    "def f(z):\n",
    "    return X**2 * z**(2*n) - a_0* v**2 * X * z**(n+2) \\\n",
    "        + 2*a_0*v*(u+v)*X*z**(n+1) - (2 + (u+v)**2 * a_0) * X * z**n \\\n",
    "        - v**2 * z**2 + 2*v*(u+v)*z - (u+v)**2 + 1 \n",
    "\n",
    "def print_f ():\n",
    "    print(\"f(z) = \", X**2,\" z^10 - \",a_0* v**2 * X,\" z^7 + \",2*a_0*v*(u+v)*X ,\\\n",
    "          \" z^6 - \",(2 + (u+v)**2 * a_0) * X ,\" z^5 - \", v**2 , \" z^2 + \", 2*v*(u+v) , \" z - \", \\\n",
    "          (u+v)**2 + 1 )\n",
    "\n",
    "print_f()"
   ]
  },
  {
   "cell_type": "code",
   "execution_count": null,
   "id": "1fd2fc1d",
   "metadata": {},
   "outputs": [],
   "source": []
  },
  {
   "cell_type": "code",
   "execution_count": null,
   "id": "2e25425d",
   "metadata": {},
   "outputs": [],
   "source": []
  },
  {
   "cell_type": "code",
   "execution_count": null,
   "id": "9876109f",
   "metadata": {},
   "outputs": [],
   "source": []
  },
  {
   "cell_type": "code",
   "execution_count": null,
   "id": "94aa2768",
   "metadata": {},
   "outputs": [],
   "source": []
  },
  {
   "cell_type": "code",
   "execution_count": null,
   "id": "a2a91603",
   "metadata": {},
   "outputs": [],
   "source": []
  },
  {
   "cell_type": "code",
   "execution_count": null,
   "id": "58d777b0",
   "metadata": {},
   "outputs": [],
   "source": []
  },
  {
   "cell_type": "code",
   "execution_count": null,
   "id": "bf320d4e",
   "metadata": {},
   "outputs": [],
   "source": []
  },
  {
   "cell_type": "code",
   "execution_count": null,
   "id": "62d35a0e",
   "metadata": {},
   "outputs": [],
   "source": []
  },
  {
   "cell_type": "code",
   "execution_count": null,
   "id": "f85fe840",
   "metadata": {},
   "outputs": [],
   "source": []
  },
  {
   "cell_type": "code",
   "execution_count": null,
   "id": "a426a36f",
   "metadata": {},
   "outputs": [],
   "source": []
  },
  {
   "cell_type": "code",
   "execution_count": null,
   "id": "7e0d0f4e",
   "metadata": {},
   "outputs": [],
   "source": []
  },
  {
   "cell_type": "code",
   "execution_count": null,
   "id": "0616c41e",
   "metadata": {},
   "outputs": [],
   "source": []
  },
  {
   "cell_type": "code",
   "execution_count": null,
   "id": "b589fffe",
   "metadata": {},
   "outputs": [],
   "source": []
  },
  {
   "cell_type": "code",
   "execution_count": null,
   "id": "19195579",
   "metadata": {},
   "outputs": [],
   "source": []
  },
  {
   "cell_type": "code",
   "execution_count": null,
   "id": "89c4eb62",
   "metadata": {},
   "outputs": [],
   "source": []
  },
  {
   "cell_type": "code",
   "execution_count": null,
   "id": "3655ea62",
   "metadata": {},
   "outputs": [],
   "source": []
  },
  {
   "cell_type": "code",
   "execution_count": null,
   "id": "3549f4d3",
   "metadata": {},
   "outputs": [],
   "source": []
  },
  {
   "cell_type": "code",
   "execution_count": null,
   "id": "955904d7",
   "metadata": {},
   "outputs": [],
   "source": []
  },
  {
   "cell_type": "code",
   "execution_count": null,
   "id": "5ccc46e5",
   "metadata": {},
   "outputs": [],
   "source": []
  }
 ],
 "metadata": {
  "kernelspec": {
   "display_name": "Python 3 (ipykernel)",
   "language": "python",
   "name": "python3"
  },
  "language_info": {
   "codemirror_mode": {
    "name": "ipython",
    "version": 3
   },
   "file_extension": ".py",
   "mimetype": "text/x-python",
   "name": "python",
   "nbconvert_exporter": "python",
   "pygments_lexer": "ipython3",
   "version": "3.7.13"
  },
  "varInspector": {
   "cols": {
    "lenName": 16,
    "lenType": 16,
    "lenVar": 40
   },
   "kernels_config": {
    "python": {
     "delete_cmd_postfix": "",
     "delete_cmd_prefix": "del ",
     "library": "var_list.py",
     "varRefreshCmd": "print(var_dic_list())"
    },
    "r": {
     "delete_cmd_postfix": ") ",
     "delete_cmd_prefix": "rm(",
     "library": "var_list.r",
     "varRefreshCmd": "cat(var_dic_list()) "
    }
   },
   "types_to_exclude": [
    "module",
    "function",
    "builtin_function_or_method",
    "instance",
    "_Feature"
   ],
   "window_display": false
  }
 },
 "nbformat": 4,
 "nbformat_minor": 5
}
