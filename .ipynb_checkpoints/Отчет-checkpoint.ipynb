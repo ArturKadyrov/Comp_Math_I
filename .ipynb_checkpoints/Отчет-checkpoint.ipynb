{
 "cells": [
  {
   "cell_type": "code",
   "execution_count": 1,
   "id": "620afd1f",
   "metadata": {
    "ExecuteTime": {
     "end_time": "2022-10-02T15:47:59.534721Z",
     "start_time": "2022-10-02T15:47:59.528555Z"
    }
   },
   "outputs": [],
   "source": [
    "# Условия :\n",
    "gamma_0 = 5/3\n",
    "p_0 = 1.694 * (10**(-4))\n",
    "P_0 = 1.013 * (10**(6))\n",
    "U_0 = -10**(-1)\n",
    "\n",
    "gamma_3 = 5/3 \n",
    "C_3 = 3.6537 * (10**(4))\n",
    "P_3 = 1.6768 * (10**(6))\n",
    "U_3 = 0"
   ]
  },
  {
   "cell_type": "code",
   "execution_count": 2,
   "id": "816c9d35",
   "metadata": {
    "ExecuteTime": {
     "end_time": "2022-10-02T15:48:00.355820Z",
     "start_time": "2022-10-02T15:48:00.348714Z"
    }
   },
   "outputs": [],
   "source": [
    "# Новые обозначения :\n",
    "a_0 = (gamma_0 + 1)/(gamma_0 - 1)\n",
    "n = 2 * gamma_3 / (gamma_3 -1)\n",
    "X = P_3 / P_0\n",
    "u = (U_3 - U_0)*  (  ((gamma_0-1)*p_0/2/P_0)**(0.5)  )\n",
    "p_3 = gamma_3 * P_3 / (C_3**2 )\n",
    "v = 2 / (gamma_3 - 1)*    (  (gamma_3*(gamma_0-1)/2 * p_0/p_3 * P_3/P_0)**(0.5)  )"
   ]
  },
  {
   "cell_type": "markdown",
   "id": "4f3cfd06",
   "metadata": {
    "ExecuteTime": {
     "end_time": "2022-10-02T00:35:30.233949Z",
     "start_time": "2022-10-02T00:35:30.224169Z"
    }
   },
   "source": [
    "# Функция f(z)"
   ]
  },
  {
   "cell_type": "code",
   "execution_count": 3,
   "id": "072d5b9d",
   "metadata": {
    "ExecuteTime": {
     "end_time": "2022-10-02T15:48:04.459371Z",
     "start_time": "2022-10-02T15:48:04.454418Z"
    }
   },
   "outputs": [
    {
     "name": "stdout",
     "output_type": "stream",
     "text": [
      "f(z) =  2.739956322983837  z^10 -  4.434276774507052  z^7 +  8.868561639947997  z^6 -  7.744847550538416  z^5 -  0.6697164796898323  z^2 +  1.3394341813673842  z +  0.3302822983218907\n"
     ]
    }
   ],
   "source": [
    "def f(z):\n",
    "    return X**2 * z**(2*n) - a_0* v**2 * X * z**(n+2) \\\n",
    "        + 2*a_0*v*(u+v)*X*z**(n+1) - (2 + (u+v)**2 * a_0) * X * z**n \\\n",
    "        - v**2 * z**2 + 2*v*(u+v)*z - (u+v)**2 + 1 \n",
    "\n",
    "def print_f ():\n",
    "    print(\"f(z) = \", X**2,\" z^10 - \",a_0* v**2 * X,\" z^7 + \",2*a_0*v*(u+v)*X ,\\\n",
    "          \" z^6 - \",(2 + (u+v)**2 * a_0) * X ,\" z^5 - \", v**2 , \" z^2 + \", 2*v*(u+v) , \" z + \", \\\n",
    "          -(u+v)**2 + 1 )\n",
    "\n",
    "print_f()"
   ]
  },
  {
   "cell_type": "markdown",
   "id": "f81fc7c4",
   "metadata": {},
   "source": [
    "# Локализация"
   ]
  },
  {
   "cell_type": "code",
   "execution_count": 4,
   "id": "2e25425d",
   "metadata": {
    "ExecuteTime": {
     "end_time": "2022-10-02T15:48:05.854864Z",
     "start_time": "2022-10-02T15:48:05.496975Z"
    }
   },
   "outputs": [],
   "source": [
    "import numpy as np\n",
    "import matplotlib.pyplot as plt"
   ]
  },
  {
   "cell_type": "markdown",
   "id": "07aefdd9",
   "metadata": {},
   "source": [
    "### Следствие из ОТА"
   ]
  },
  {
   "cell_type": "code",
   "execution_count": 5,
   "id": "9876109f",
   "metadata": {
    "ExecuteTime": {
     "end_time": "2022-10-02T15:48:06.556317Z",
     "start_time": "2022-10-02T15:48:06.548617Z"
    }
   },
   "outputs": [
    {
     "name": "stdout",
     "output_type": "stream",
     "text": [
      "Действительные корни лежат в кольце :  0.03590476156985548  <= |x| <=  4.23675292396269\n"
     ]
    }
   ],
   "source": [
    "A = max(abs(a_0* v**2 * X),abs(2*a_0*v*(u+v)*X),abs((2 + (u+v)**2 * a_0) * X)\\\n",
    "        ,abs(v**2),abs(2*v*(u+v)), abs(1-(u+v)**2))\n",
    "B = max(abs(X**2),abs(a_0* v**2 * X),abs(2*a_0*v*(u+v)*X),abs((2 + (u+v)**2 * a_0) * X)\\\n",
    "        ,abs(v**2),abs(2*v*(u+v)))\n",
    "alpha = abs(1-(u+v)**2)/(abs(1-(u+v)**2)+B)\n",
    "betta = 1 + A/abs(X**2)\n",
    "\n",
    "print(\"Действительные корни лежат в кольце : \", alpha ,\" <= |x| <= \",betta)"
   ]
  },
  {
   "cell_type": "markdown",
   "id": "a3008585",
   "metadata": {},
   "source": [
    "### Теорема Декарта"
   ]
  },
  {
   "cell_type": "markdown",
   "id": "057b61a9",
   "metadata": {},
   "source": [
    "    для положительного корня - колличество перемен знака у коэффициентов равно 4\n",
    "    для отрицательного корня - колличество перемен знака у коэффициентов равно 2\n",
    "Следовательно, уранение имеет 2 или 0 отрицательных корней и (4 или 2 или 0 ) положительных корней "
   ]
  },
  {
   "cell_type": "markdown",
   "id": "067f5b94",
   "metadata": {},
   "source": [
    "### Теорема Бюдана-Фурье"
   ]
  },
  {
   "cell_type": "code",
   "execution_count": 6,
   "id": "58d777b0",
   "metadata": {
    "ExecuteTime": {
     "end_time": "2022-10-02T15:48:08.731747Z",
     "start_time": "2022-10-02T15:48:08.728144Z"
    }
   },
   "outputs": [],
   "source": [
    "# Матрица Коэффицентов (на i строке i производная)\n",
    "coefficients = np.zeros(121).reshape(11,11)\n",
    "# Начальные Условия\n",
    "coefficients[0][10] = X**2\n",
    "coefficients[0][7] = - a_0* v**2 * X\n",
    "coefficients[0][6] = 2*a_0*v*(u+v)*X\n",
    "coefficients[0][5] = - (2 + (u+v)**2 * a_0) * X\n",
    "coefficients[0][2] = - v**2\n",
    "coefficients[0][1] =  2*v*(u+v)\n",
    "coefficients[0][0] = - (u+v)**2 + 1 \n",
    "\n",
    "for i in range(1,11,1):\n",
    "    for j in range(0,10,1):\n",
    "\n",
    "        coefficients[i][j]=coefficients[i-1][j+1]*(j+1)"
   ]
  },
  {
   "cell_type": "code",
   "execution_count": 7,
   "id": "bf320d4e",
   "metadata": {
    "ExecuteTime": {
     "end_time": "2022-10-02T15:48:09.245251Z",
     "start_time": "2022-10-02T15:48:09.241879Z"
    }
   },
   "outputs": [],
   "source": [
    "# Функция вычисления вектора производных\n",
    "def derivative_function (c):\n",
    "    x = np.array([1,c,c**2,c**3,c**4,c**5,c**6,c**7,c**8,c**9,c**10])\n",
    "    return coefficients @ x\n",
    "    \n",
    "# Функция вычисления колличества перемен знаков\n",
    "def S (c):\n",
    "    vector_1 = derivative_function(c)\n",
    "    counter = 0\n",
    "    for i in range(0,10,1):\n",
    "        if(vector_1[i]*vector_1[i+1] < 0):\n",
    "            counter +=1\n",
    "            \n",
    "    return counter\n",
    "    "
   ]
  },
  {
   "cell_type": "markdown",
   "id": "3b7daf1f",
   "metadata": {
    "ExecuteTime": {
     "end_time": "2022-10-02T13:51:36.321996Z",
     "start_time": "2022-10-02T13:51:36.313856Z"
    }
   },
   "source": [
    "Так как Теорема Бюдана-Фурье дает точный ответ о количестве корней на отрезке ( в случаи , если разность равняеться 0 или 1 ) в отличии от метода Ньютона , а также работает с целыми числами (а не с малыми вещественными числами , как Ньютон ) будем использовать Фурье с бинарным поиском . Тоесть будем делить отрезок , пока разность S не будет равняться 0 или 1"
   ]
  },
  {
   "cell_type": "code",
   "execution_count": 8,
   "id": "f85fe840",
   "metadata": {
    "ExecuteTime": {
     "end_time": "2022-10-02T15:48:10.397083Z",
     "start_time": "2022-10-02T15:48:10.395229Z"
    }
   },
   "outputs": [],
   "source": [
    "locality_answer = set()"
   ]
  },
  {
   "cell_type": "code",
   "execution_count": 9,
   "id": "a426a36f",
   "metadata": {
    "ExecuteTime": {
     "end_time": "2022-10-02T15:48:10.909889Z",
     "start_time": "2022-10-02T15:48:10.900970Z"
    }
   },
   "outputs": [
    {
     "name": "stdout",
     "output_type": "stream",
     "text": [
      "{(-0.2984577717194077, -0.03590476156985548), (-0.5610107818689599, -0.2984577717194077), (0.8235637920185122, 0.8892020445559001), (0.8892020445559001, 0.9548402970932882)}\n"
     ]
    }
   ],
   "source": [
    "def root_area (a,b):\n",
    "    if(b-a < 10**(-6)):\n",
    "        return\n",
    "    delta = S(a)-S(b)\n",
    "    if(delta==0):\n",
    "        return \n",
    "    if(delta==1):\n",
    "        locality_answer.add((a,b))\n",
    "        return\n",
    "    else:\n",
    "        root_area(a,(a+b)/2)\n",
    "        root_area((a+b)/2,b)\n",
    "\n",
    "root_area(alpha,betta)\n",
    "root_area(-betta,-alpha)\n",
    "print(locality_answer)"
   ]
  },
  {
   "cell_type": "markdown",
   "id": "9e1b8ad4",
   "metadata": {},
   "source": [
    "Следовательно нашли 4 корня "
   ]
  },
  {
   "cell_type": "markdown",
   "id": "217553f6",
   "metadata": {},
   "source": [
    "### Графическая проверка"
   ]
  },
  {
   "cell_type": "code",
   "execution_count": 10,
   "id": "b589fffe",
   "metadata": {
    "ExecuteTime": {
     "end_time": "2022-10-02T15:48:12.657628Z",
     "start_time": "2022-10-02T15:48:12.534234Z"
    }
   },
   "outputs": [
    {
     "data": {
      "image/png": "[encoded data removed]",
      "text/plain": [
       "<Figure size 648x648 with 1 Axes>"
      ]
     },
     "metadata": {
      "needs_background": "light"
     },
     "output_type": "display_data"
    }
   ],
   "source": [
    "plt.figure (figsize=(9,9))\n",
    "x = np.linspace(-betta,betta,1000)\n",
    "plt.plot(x,f(x))\n",
    "plt.ylim(-1,1)\n",
    "plt.show()"
   ]
  },
  {
   "cell_type": "markdown",
   "id": "02f697ca",
   "metadata": {},
   "source": [
    "Итог :\n",
    "  Удалось локализовать все 4 корня "
   ]
  },
  {
   "cell_type": "markdown",
   "id": "1fd45695",
   "metadata": {},
   "source": [
    "# Нахождение корней"
   ]
  },
  {
   "cell_type": "markdown",
   "id": "7dc61b4d",
   "metadata": {},
   "source": [
    "Будем искать корени методом половинного деления "
   ]
  },
  {
   "cell_type": "code",
   "execution_count": 11,
   "id": "3549f4d3",
   "metadata": {
    "ExecuteTime": {
     "end_time": "2022-10-02T15:48:14.715119Z",
     "start_time": "2022-10-02T15:48:14.711960Z"
    }
   },
   "outputs": [],
   "source": [
    "epsilon = 10**(-15)\n",
    "def root (a,b):\n",
    "    if(b-a<epsilon):\n",
    "        return a\n",
    "    c = (a+b)/2\n",
    "    if (f(a)*f(c)<0):\n",
    "        return root(a,c)\n",
    "    else :\n",
    "        return root(c,b)"
   ]
  },
  {
   "cell_type": "code",
   "execution_count": 12,
   "id": "955904d7",
   "metadata": {
    "ExecuteTime": {
     "end_time": "2022-10-02T15:48:15.233490Z",
     "start_time": "2022-10-02T15:48:15.226333Z"
    }
   },
   "outputs": [
    {
     "name": "stdout",
     "output_type": "stream",
     "text": [
      "[-0.2254993710396117, -0.5275696402697247, 0.8566917210227389, 0.927957310479862]\n"
     ]
    }
   ],
   "source": [
    "answer = list()\n",
    "for I in locality_answer :\n",
    "    answer.append( root (I[0],I[1]) )\n",
    "print(answer)"
   ]
  },
  {
   "cell_type": "markdown",
   "id": "15d99e0a",
   "metadata": {},
   "source": [
    "Нашли все действительные корни , с точностью до 15-го знака !"
   ]
  },
  {
   "cell_type": "markdown",
   "id": "e9543cf5",
   "metadata": {},
   "source": [
    "# Возвращаемся к физической задаче"
   ]
  },
  {
   "cell_type": "code",
   "execution_count": 13,
   "id": "9d6d4cba",
   "metadata": {
    "ExecuteTime": {
     "end_time": "2022-10-02T15:48:16.689730Z",
     "start_time": "2022-10-02T15:48:16.686225Z"
    }
   },
   "outputs": [],
   "source": [
    "def Physical_task (ans):\n",
    "    P_1 = P_3*ans**n\n",
    "    P_2 = P_1\n",
    "    print(\"P_1 = P_2 \",P_1)\n",
    "   \n",
    "    U_1 = U_3 + 2*C_3/(gamma_3-1) * (1-ans)\n",
    "    U_2 = U_1\n",
    "    print(\"U_2 = U_1 \",U_2)\n",
    "    \n",
    "    C_2 = C_3*ans\n",
    "    print(\"C_2 = \",C_2)\n",
    "    \n",
    "    D_0 = U_0 + (P_1-P_0)/(U_1-U_0)/p_0\n",
    "    print(\"D_0 = \",D_0)\n",
    "    \n",
    "    p_1 = p_0 * (U_0-D_0)/(U_1-D_0)\n",
    "    print (\"p_1 = \",p_1)"
   ]
  },
  {
   "cell_type": "code",
   "execution_count": 14,
   "id": "a92fd006",
   "metadata": {
    "ExecuteTime": {
     "end_time": "2022-10-02T15:48:17.163411Z",
     "start_time": "2022-10-02T15:48:17.158022Z"
    },
    "scrolled": true
   },
   "outputs": [
    {
     "name": "stdout",
     "output_type": "stream",
     "text": [
      "    -0.2254993710396117\n",
      "P_1 = P_2  -977.7052331279831\n",
      "U_2 = U_1  134328.21155902283\n",
      "C_2 =  -8239.070519674293\n",
      "D_0 =  -44560.33208960377\n",
      "p_1 =  4.2196683823451945e-05\n",
      " \n",
      "    -0.5275696402697247\n",
      "P_1 = P_2  -68529.9228451153\n",
      "U_2 = U_1  167438.4358396048\n",
      "C_2 =  -19275.811946534934\n",
      "D_0 =  -38130.35555209668\n",
      "p_1 =  3.1421429521455705e-05\n",
      " \n",
      "    0.8566917210227389\n",
      "P_1 = P_2  773756.1519829684\n",
      "U_2 = U_1  15708.16376697656\n",
      "C_2 =  31300.94541100781\n",
      "D_0 =  -89908.27616625573\n",
      "p_1 =  0.00014420524922248822\n",
      " \n",
      "    0.927957310479862\n",
      "P_1 = P_2  1153775.3410691235\n",
      "U_2 = U_1  7896.671240991849\n",
      "C_2 =  33904.77625300272\n",
      "D_0 =  105235.72860765272\n",
      "p_1 =  0.0001831428190123628\n",
      " \n"
     ]
    }
   ],
   "source": [
    "for i in answer :\n",
    "    print(\"   \",i)\n",
    "    Physical_task(i)\n",
    "    print(\" \")"
   ]
  }
 ],
 "metadata": {
  "kernelspec": {
   "display_name": "Python 3 (ipykernel)",
   "language": "python",
   "name": "python3"
  },
  "language_info": {
   "codemirror_mode": {
    "name": "ipython",
    "version": 3
   },
   "file_extension": ".py",
   "mimetype": "text/x-python",
   "name": "python",
   "nbconvert_exporter": "python",
   "pygments_lexer": "ipython3",
   "version": "3.7.13"
  },
  "varInspector": {
   "cols": {
    "lenName": 16,
    "lenType": 16,
    "lenVar": 40
   },
   "kernels_config": {
    "python": {
     "delete_cmd_postfix": "",
     "delete_cmd_prefix": "del ",
     "library": "var_list.py",
     "varRefreshCmd": "print(var_dic_list())"
    },
    "r": {
     "delete_cmd_postfix": ") ",
     "delete_cmd_prefix": "rm(",
     "library": "var_list.r",
     "varRefreshCmd": "cat(var_dic_list()) "
    }
   },
   "types_to_exclude": [
    "module",
    "function",
    "builtin_function_or_method",
    "instance",
    "_Feature"
   ],
   "window_display": false
  }
 },
 "nbformat": 4,
 "nbformat_minor": 5
}
